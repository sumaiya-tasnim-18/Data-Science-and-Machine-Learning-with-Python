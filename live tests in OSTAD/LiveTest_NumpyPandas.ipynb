{
 "cells": [
  {
   "cell_type": "code",
   "execution_count": 30,
   "id": "0d4fd970",
   "metadata": {},
   "outputs": [
    {
     "name": "stdout",
     "output_type": "stream",
     "text": [
      "Original DataFrame:\n",
      "     A   B    C    D\n",
      "0   21  31  NaN   46\n",
      "1  NaN  32  NaN   47\n",
      "2   22  33  NaN  NaN\n",
      "3    4  34  NaN   48\n",
      "4  NaN  35  NaN   49\n"
     ]
    }
   ],
   "source": [
    "import pandas as pd\n",
    "import numpy as np\n",
    "\n",
    "# Create the DataFrame with object dtype to keep it as mixed type (allow NaN but preserve integers)\n",
    "data = {\n",
    "    'A': [21, np.nan, 22, 4, np.nan],\n",
    "    'B': [31, 32, 33, 34, 35],\n",
    "    'C': [np.nan, np.nan, np.nan, np.nan, np.nan],\n",
    "    'D': [46, 47, np.nan, 48, 49]\n",
    "}\n",
    "\n",
    "df = pd.DataFrame(data, dtype=\"object\")  # Keeps values as integers or None\n",
    "\n",
    "print(\"Original DataFrame:\")\n",
    "print(df)\n",
    "\n"
   ]
  },
  {
   "cell_type": "code",
   "execution_count": 28,
   "id": "ffaec5c6",
   "metadata": {},
   "outputs": [
    {
     "name": "stdout",
     "output_type": "stream",
     "text": [
      "Total NaN values in DataFrame: 8\n"
     ]
    }
   ],
   "source": [
    "# Count total NaN values\n",
    "print(\"Total NaN values in DataFrame:\", df.isna().sum().sum())"
   ]
  },
  {
   "cell_type": "code",
   "execution_count": 24,
   "id": "457fd8b2",
   "metadata": {},
   "outputs": [
    {
     "name": "stdout",
     "output_type": "stream",
     "text": [
      "    A   B   C   D\n",
      "0  21  31 NaN  46\n",
      "1  21  32 NaN  47\n",
      "2  22  33 NaN  47\n",
      "3   4  34 NaN  48\n",
      "4   4  35 NaN  49\n"
     ]
    },
    {
     "name": "stderr",
     "output_type": "stream",
     "text": [
      "C:\\Users\\sumai\\AppData\\Local\\Temp\\ipykernel_13920\\4141552587.py:1: FutureWarning: DataFrame.fillna with 'method' is deprecated and will raise in a future version. Use obj.ffill() or obj.bfill() instead.\n",
      "  df_ffill = df.fillna(method='ffill')\n",
      "C:\\Users\\sumai\\AppData\\Local\\Temp\\ipykernel_13920\\4141552587.py:1: FutureWarning: Downcasting object dtype arrays on .fillna, .ffill, .bfill is deprecated and will change in a future version. Call result.infer_objects(copy=False) instead. To opt-in to the future behavior, set `pd.set_option('future.no_silent_downcasting', True)`\n",
      "  df_ffill = df.fillna(method='ffill')\n"
     ]
    }
   ],
   "source": [
    "df_ffill = df.fillna(method='ffill')\n",
    "print(df_ffill)"
   ]
  },
  {
   "cell_type": "code",
   "execution_count": 26,
   "id": "e34479fa",
   "metadata": {},
   "outputs": [
    {
     "name": "stdout",
     "output_type": "stream",
     "text": [
      "      A   B   C   D\n",
      "0  21.0  31 NaN  46\n",
      "1  22.0  32 NaN  47\n",
      "2  22.0  33 NaN  48\n",
      "3   4.0  34 NaN  48\n",
      "4   NaN  35 NaN  49\n"
     ]
    },
    {
     "name": "stderr",
     "output_type": "stream",
     "text": [
      "C:\\Users\\sumai\\AppData\\Local\\Temp\\ipykernel_13920\\3063681000.py:1: FutureWarning: DataFrame.fillna with 'method' is deprecated and will raise in a future version. Use obj.ffill() or obj.bfill() instead.\n",
      "  df_bfill = df.fillna(method='bfill')\n",
      "C:\\Users\\sumai\\AppData\\Local\\Temp\\ipykernel_13920\\3063681000.py:1: FutureWarning: Downcasting object dtype arrays on .fillna, .ffill, .bfill is deprecated and will change in a future version. Call result.infer_objects(copy=False) instead. To opt-in to the future behavior, set `pd.set_option('future.no_silent_downcasting', True)`\n",
      "  df_bfill = df.fillna(method='bfill')\n"
     ]
    }
   ],
   "source": [
    "df_bfill = df.fillna(method='bfill')\n",
    "print(df_bfill)"
   ]
  },
  {
   "cell_type": "code",
   "execution_count": 31,
   "id": "708dfc28",
   "metadata": {},
   "outputs": [
    {
     "name": "stdout",
     "output_type": "stream",
     "text": [
      "    A   B  C   D\n",
      "0  21  31  0  46\n",
      "1   0  32  0  47\n",
      "2  22  33  0   0\n",
      "3   4  34  0  48\n",
      "4   0  35  0  49\n"
     ]
    },
    {
     "name": "stderr",
     "output_type": "stream",
     "text": [
      "C:\\Users\\sumai\\AppData\\Local\\Temp\\ipykernel_13920\\3821787565.py:2: FutureWarning: Downcasting object dtype arrays on .fillna, .ffill, .bfill is deprecated and will change in a future version. Call result.infer_objects(copy=False) instead. To opt-in to the future behavior, set `pd.set_option('future.no_silent_downcasting', True)`\n",
      "  df_0filled = df.fillna(0)\n"
     ]
    }
   ],
   "source": [
    "# Fill NaN with 0\n",
    "df_0filled = df.fillna(0)\n",
    "print(df_0filled)"
   ]
  }
 ],
 "metadata": {
  "kernelspec": {
   "display_name": "Python 3",
   "language": "python",
   "name": "python3"
  },
  "language_info": {
   "codemirror_mode": {
    "name": "ipython",
    "version": 3
   },
   "file_extension": ".py",
   "mimetype": "text/x-python",
   "name": "python",
   "nbconvert_exporter": "python",
   "pygments_lexer": "ipython3",
   "version": "3.12.8"
  }
 },
 "nbformat": 4,
 "nbformat_minor": 5
}
