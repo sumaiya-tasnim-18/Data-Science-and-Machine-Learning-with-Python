{
 "cells": [
  {
   "cell_type": "markdown",
   "id": "ddbc6d03",
   "metadata": {},
   "source": [
    "Following are some model performance information\n",
    "Accurate answer = 10,\n",
    "Total question = 20,\n",
    "True Positive = 8,\n",
    "False Positive = 6,\n",
    "False Negative = 4,\n",
    "Based on the above information, find out the following result.\n",
    "Accuracy = ?\n",
    "Precision = ?\n",
    "Recall = ?\n",
    "F1 = ?"
   ]
  },
  {
   "cell_type": "code",
   "execution_count": 1,
   "id": "18262a03",
   "metadata": {},
   "outputs": [
    {
     "name": "stdout",
     "output_type": "stream",
     "text": [
      "Accuracy: 0.5\n",
      "Precision: 0.5714285714285714\n",
      "Recall: 0.6666666666666666\n",
      "F1-score: 0.6153846153846154\n"
     ]
    }
   ],
   "source": [
    "from sklearn.metrics import accuracy_score, precision_score, recall_score, f1_score\n",
    "\n",
    "# Given values\n",
    "TP = 8\n",
    "FP = 6\n",
    "FN = 4\n",
    "TN = 2\n",
    "\n",
    "# Create lists of true labels and predicted labels\n",
    "y_true = [1]*TP + [1]*FN + [0]*FP + [0]*TN  # 1 = positive, 0 = negative\n",
    "y_pred = [1]*TP + [0]*FN + [1]*FP + [0]*TN\n",
    "\n",
    "# Calculate metrics\n",
    "accuracy = accuracy_score(y_true, y_pred)\n",
    "precision = precision_score(y_true, y_pred)\n",
    "recall = recall_score(y_true, y_pred)\n",
    "f1 = f1_score(y_true, y_pred)\n",
    "\n",
    "print(\"Accuracy:\", accuracy)\n",
    "print(\"Precision:\", precision)\n",
    "print(\"Recall:\", recall)\n",
    "print(\"F1-score:\", f1)\n"
   ]
  }
 ],
 "metadata": {
  "kernelspec": {
   "display_name": "Python 3",
   "language": "python",
   "name": "python3"
  },
  "language_info": {
   "codemirror_mode": {
    "name": "ipython",
    "version": 3
   },
   "file_extension": ".py",
   "mimetype": "text/x-python",
   "name": "python",
   "nbconvert_exporter": "python",
   "pygments_lexer": "ipython3",
   "version": "3.12.8"
  }
 },
 "nbformat": 4,
 "nbformat_minor": 5
}
