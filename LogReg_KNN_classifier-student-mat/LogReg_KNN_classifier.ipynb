{
 "cells": [
  {
   "cell_type": "markdown",
   "id": "3ab51b51",
   "metadata": {},
   "source": [
    "Question: Using the Student Alcohol Consumption dataset, preprocess the data (e.g., encode categorical features, scale numeric ones), then build and compare Logistic Regression and K-Nearest Neighbors (KNN) models to predict whether a student's final grade (G3) is pass or fail (binary classification)."
   ]
  },
  {
   "cell_type": "markdown",
   "id": "7b144ee8",
   "metadata": {},
   "source": [
    "Answer: Loading and exploring the uploaded CSV, preprocessing, training Logistic Regression and KNN, and comparing their performance. The outputs (tables and metrics) will be displayed below."
   ]
  },
  {
   "cell_type": "markdown",
   "id": "b9e89224",
   "metadata": {},
   "source": [
    "Importing all libraries"
   ]
  },
  {
   "cell_type": "code",
   "execution_count": 31,
   "id": "36c93599",
   "metadata": {},
   "outputs": [],
   "source": [
    "import pandas as pd\n",
    "import numpy as np\n",
    "from sklearn.model_selection import train_test_split\n",
    "from sklearn.preprocessing import StandardScaler, OneHotEncoder\n",
    "from sklearn.compose import ColumnTransformer\n",
    "from sklearn.pipeline import Pipeline\n",
    "from sklearn.linear_model import LogisticRegression\n",
    "from sklearn.neighbors import KNeighborsClassifier\n",
    "from sklearn.metrics import accuracy_score, classification_report, confusion_matrix\n",
    "import matplotlib.pyplot as plt"
   ]
  },
  {
   "cell_type": "markdown",
   "id": "f2cf6a7c",
   "metadata": {},
   "source": [
    "1. Loading dataset: \"student-mat.csv\""
   ]
  },
  {
   "cell_type": "code",
   "execution_count": 32,
   "id": "57fc6b7c",
   "metadata": {},
   "outputs": [],
   "source": [
    "df = pd.read_csv(\"student-mat.csv\", sep=\";\")"
   ]
  },
  {
   "cell_type": "markdown",
   "id": "c0933861",
   "metadata": {},
   "source": [
    "2. Displaying basic information"
   ]
  },
  {
   "cell_type": "code",
   "execution_count": 33,
   "id": "7170024d",
   "metadata": {},
   "outputs": [
    {
     "name": "stdout",
     "output_type": "stream",
     "text": [
      "Dataset shape: (395, 33)\n",
      "\n",
      "First 6 rows:\n",
      "  school sex  age address famsize Pstatus  Medu  Fedu      Mjob      Fjob  \\\n",
      "0     GP   F   18       U     GT3       A     4     4   at_home   teacher   \n",
      "1     GP   F   17       U     GT3       T     1     1   at_home     other   \n",
      "2     GP   F   15       U     LE3       T     1     1   at_home     other   \n",
      "3     GP   F   15       U     GT3       T     4     2    health  services   \n",
      "4     GP   F   16       U     GT3       T     3     3     other     other   \n",
      "5     GP   M   16       U     LE3       T     4     3  services     other   \n",
      "\n",
      "   ... famrel freetime  goout  Dalc  Walc health absences  G1  G2  G3  \n",
      "0  ...      4        3      4     1     1      3        6   5   6   6  \n",
      "1  ...      5        3      3     1     1      3        4   5   5   6  \n",
      "2  ...      4        3      2     2     3      3       10   7   8  10  \n",
      "3  ...      3        2      2     1     1      5        2  15  14  15  \n",
      "4  ...      4        3      2     1     2      5        4   6  10  10  \n",
      "5  ...      5        4      2     1     2      5       10  15  15  15  \n",
      "\n",
      "[6 rows x 33 columns]\n",
      "\n",
      "Columns and dtypes:\n",
      "\n",
      "school        object\n",
      "sex           object\n",
      "age            int64\n",
      "address       object\n",
      "famsize       object\n",
      "Pstatus       object\n",
      "Medu           int64\n",
      "Fedu           int64\n",
      "Mjob          object\n",
      "Fjob          object\n",
      "reason        object\n",
      "guardian      object\n",
      "traveltime     int64\n",
      "studytime      int64\n",
      "failures       int64\n",
      "schoolsup     object\n",
      "famsup        object\n",
      "paid          object\n",
      "activities    object\n",
      "nursery       object\n",
      "higher        object\n",
      "internet      object\n",
      "romantic      object\n",
      "famrel         int64\n",
      "freetime       int64\n",
      "goout          int64\n",
      "Dalc           int64\n",
      "Walc           int64\n",
      "health         int64\n",
      "absences       int64\n",
      "G1             int64\n",
      "G2             int64\n",
      "G3             int64\n",
      "dtype: object\n",
      "\n",
      "Summary statistics for numeric columns:\n",
      "\n",
      "           age     Medu     Fedu  traveltime  studytime  failures   famrel  \\\n",
      "count  395.000  395.000  395.000     395.000    395.000   395.000  395.000   \n",
      "mean    16.696    2.749    2.522       1.448      2.035     0.334    3.944   \n",
      "std      1.276    1.095    1.088       0.698      0.839     0.744    0.897   \n",
      "min     15.000    0.000    0.000       1.000      1.000     0.000    1.000   \n",
      "25%     16.000    2.000    2.000       1.000      1.000     0.000    4.000   \n",
      "50%     17.000    3.000    2.000       1.000      2.000     0.000    4.000   \n",
      "75%     18.000    4.000    3.000       2.000      2.000     0.000    5.000   \n",
      "max     22.000    4.000    4.000       4.000      4.000     3.000    5.000   \n",
      "\n",
      "       freetime    goout     Dalc     Walc   health  absences       G1  \\\n",
      "count   395.000  395.000  395.000  395.000  395.000   395.000  395.000   \n",
      "mean      3.235    3.109    1.481    2.291    3.554     5.709   10.909   \n",
      "std       0.999    1.113    0.891    1.288    1.390     8.003    3.319   \n",
      "min       1.000    1.000    1.000    1.000    1.000     0.000    3.000   \n",
      "25%       3.000    2.000    1.000    1.000    3.000     0.000    8.000   \n",
      "50%       3.000    3.000    1.000    2.000    4.000     4.000   11.000   \n",
      "75%       4.000    4.000    2.000    3.000    5.000     8.000   13.000   \n",
      "max       5.000    5.000    5.000    5.000    5.000    75.000   19.000   \n",
      "\n",
      "            G2       G3  \n",
      "count  395.000  395.000  \n",
      "mean    10.714   10.415  \n",
      "std      3.762    4.581  \n",
      "min      0.000    0.000  \n",
      "25%      9.000    8.000  \n",
      "50%     11.000   11.000  \n",
      "75%     13.000   14.000  \n",
      "max     19.000   20.000  \n"
     ]
    }
   ],
   "source": [
    "print(\"Dataset shape:\", df.shape)\n",
    "print(\"\\nFirst 6 rows:\")\n",
    "try:\n",
    "    from caas_jupyter_tools import display_dataframe_to_user\n",
    "    display_dataframe_to_user(\"student_head\", df.head(6))\n",
    "except Exception as e:\n",
    "    print(df.head(6))\n",
    "\n",
    "print(\"\\nColumns and dtypes:\\n\")\n",
    "print(df.dtypes)\n",
    "\n",
    "print(\"\\nSummary statistics for numeric columns:\\n\")\n",
    "print(df.describe().round(3))"
   ]
  },
  {
   "cell_type": "markdown",
   "id": "4ccfdb7d",
   "metadata": {},
   "source": [
    "3. Creating binary target: Pass (G3 >= 10) / Fail (G3 < 10)"
   ]
  },
  {
   "cell_type": "code",
   "execution_count": 34,
   "id": "94607d5a",
   "metadata": {},
   "outputs": [],
   "source": [
    "df[\"pass\"] = (df[\"G3\"] >= 10).astype(int)"
   ]
  },
  {
   "cell_type": "markdown",
   "id": "badefe63",
   "metadata": {},
   "source": [
    "4. Droping grade columns to avoid leakage\n"
   ]
  },
  {
   "cell_type": "code",
   "execution_count": 35,
   "id": "7d014542",
   "metadata": {},
   "outputs": [],
   "source": [
    "df_model = df.drop([\"G1\", \"G2\", \"G3\"], axis=1).copy()"
   ]
  },
  {
   "cell_type": "markdown",
   "id": "d6b90234",
   "metadata": {},
   "source": [
    "5. Identifying categorical and numeric features"
   ]
  },
  {
   "cell_type": "code",
   "execution_count": 37,
   "id": "7cdabc57",
   "metadata": {},
   "outputs": [
    {
     "name": "stdout",
     "output_type": "stream",
     "text": [
      "Categorical columns: ['school', 'sex', 'address', 'famsize', 'Pstatus', 'Mjob', 'Fjob', 'reason', 'guardian', 'schoolsup', 'famsup', 'paid', 'activities', 'nursery', 'higher', 'internet', 'romantic']\n",
      "Numeric columns: ['age', 'Medu', 'Fedu', 'traveltime', 'studytime', 'failures', 'famrel', 'freetime', 'goout', 'Dalc', 'Walc', 'health', 'absences']\n"
     ]
    }
   ],
   "source": [
    "cat_cols = df_model.select_dtypes(include=[\"object\"]).columns.tolist()\n",
    "num_cols = df_model.select_dtypes(include=[np.number]).columns.tolist()\n",
    "\n",
    "if \"pass\" in num_cols:\n",
    "    num_cols.remove(\"pass\")\n",
    "\n",
    "print(\"Categorical columns:\", cat_cols)\n",
    "print(\"Numeric columns:\", num_cols)"
   ]
  },
  {
   "cell_type": "markdown",
   "id": "c3d6665e",
   "metadata": {},
   "source": [
    "6. Preparing X and y, split"
   ]
  },
  {
   "cell_type": "code",
   "execution_count": 38,
   "id": "c3a62aff",
   "metadata": {},
   "outputs": [
    {
     "name": "stdout",
     "output_type": "stream",
     "text": [
      "Train/test sizes: (316, 30) (79, 30)\n"
     ]
    }
   ],
   "source": [
    "X = df_model.drop(\"pass\", axis=1)\n",
    "y = df_model[\"pass\"]\n",
    "\n",
    "X_train, X_test, y_train, y_test = train_test_split(\n",
    "    X, y, test_size=0.2, stratify=y, random_state=42\n",
    ")\n",
    "\n",
    "print(\"Train/test sizes:\", X_train.shape, X_test.shape)"
   ]
  },
  {
   "cell_type": "markdown",
   "id": "22854d1e",
   "metadata": {},
   "source": [
    "7. Preprocessor"
   ]
  },
  {
   "cell_type": "code",
   "execution_count": 39,
   "id": "d008a314",
   "metadata": {},
   "outputs": [],
   "source": [
    "preprocessor = ColumnTransformer(\n",
    "    transformers=[\n",
    "        (\"num\", StandardScaler(), num_cols),\n",
    "        (\"cat\", OneHotEncoder(handle_unknown=\"ignore\", sparse_output=False), cat_cols),\n",
    "    ]\n",
    ")"
   ]
  },
  {
   "cell_type": "markdown",
   "id": "98fae93e",
   "metadata": {},
   "source": [
    "8. Logistic Regression Pipeline"
   ]
  },
  {
   "cell_type": "code",
   "execution_count": 40,
   "id": "7605d704",
   "metadata": {},
   "outputs": [
    {
     "name": "stdout",
     "output_type": "stream",
     "text": [
      "\n",
      "=== Logistic Regression Results ===\n",
      "Accuracy: 0.6582278481012658\n",
      "Confusion Matrix:\n",
      " [[ 9 17]\n",
      " [10 43]]\n",
      "Classification Report:\n",
      "               precision    recall  f1-score   support\n",
      "\n",
      "           0       0.47      0.35      0.40        26\n",
      "           1       0.72      0.81      0.76        53\n",
      "\n",
      "    accuracy                           0.66        79\n",
      "   macro avg       0.60      0.58      0.58        79\n",
      "weighted avg       0.64      0.66      0.64        79\n",
      "\n"
     ]
    }
   ],
   "source": [
    "log_reg_model = Pipeline(steps=[\n",
    "    (\"preprocessor\", preprocessor),\n",
    "    (\"classifier\", LogisticRegression(max_iter=1500, random_state=42))\n",
    "])\n",
    "\n",
    "log_reg_model.fit(X_train, y_train)\n",
    "y_pred_log = log_reg_model.predict(X_test)\n",
    "\n",
    "print(\"\\n=== Logistic Regression Results ===\")\n",
    "print(\"Accuracy:\", accuracy_score(y_test, y_pred_log))\n",
    "print(\"Confusion Matrix:\\n\", confusion_matrix(y_test, y_pred_log))\n",
    "print(\"Classification Report:\\n\", classification_report(y_test, y_pred_log))"
   ]
  },
  {
   "cell_type": "markdown",
   "id": "9457fd46",
   "metadata": {},
   "source": [
    "9. KNN Pipeline (default k=5 first)"
   ]
  },
  {
   "cell_type": "code",
   "execution_count": 41,
   "id": "fcfedc43",
   "metadata": {},
   "outputs": [
    {
     "name": "stdout",
     "output_type": "stream",
     "text": [
      "\n",
      "=== KNN (k=5) Results ===\n",
      "Accuracy: 0.5822784810126582\n",
      "Confusion Matrix:\n",
      " [[ 5 21]\n",
      " [12 41]]\n",
      "Classification Report:\n",
      "               precision    recall  f1-score   support\n",
      "\n",
      "           0       0.29      0.19      0.23        26\n",
      "           1       0.66      0.77      0.71        53\n",
      "\n",
      "    accuracy                           0.58        79\n",
      "   macro avg       0.48      0.48      0.47        79\n",
      "weighted avg       0.54      0.58      0.55        79\n",
      "\n"
     ]
    }
   ],
   "source": [
    "knn_model = Pipeline(steps=[\n",
    "    (\"preprocessor\", preprocessor),\n",
    "    (\"classifier\", KNeighborsClassifier(n_neighbors=5))\n",
    "])\n",
    "\n",
    "knn_model.fit(X_train, y_train)\n",
    "y_pred_knn = knn_model.predict(X_test)\n",
    "\n",
    "print(\"\\n=== KNN (k=5) Results ===\")\n",
    "print(\"Accuracy:\", accuracy_score(y_test, y_pred_knn))\n",
    "print(\"Confusion Matrix:\\n\", confusion_matrix(y_test, y_pred_knn))\n",
    "print(\"Classification Report:\\n\", classification_report(y_test, y_pred_knn))"
   ]
  },
  {
   "cell_type": "markdown",
   "id": "98d1bc4c",
   "metadata": {},
   "source": [
    "10. Tune best k (Optional) "
   ]
  },
  {
   "cell_type": "code",
   "execution_count": 42,
   "id": "a2a9cb61",
   "metadata": {},
   "outputs": [
    {
     "name": "stdout",
     "output_type": "stream",
     "text": [
      "\n",
      "Best k: 14 with accuracy: 0.658\n"
     ]
    },
    {
     "data": {
      "image/png": "[encoded data removed]",
      "text/plain": [
       "<Figure size 800x400 with 1 Axes>"
      ]
     },
     "metadata": {},
     "output_type": "display_data"
    }
   ],
   "source": [
    "k_values = range(1, 21)\n",
    "accuracies = []\n",
    "\n",
    "for k in k_values:\n",
    "    knn = Pipeline(steps=[\n",
    "        (\"preprocessor\", preprocessor),\n",
    "        (\"classifier\", KNeighborsClassifier(n_neighbors=k))\n",
    "    ])\n",
    "    knn.fit(X_train, y_train)\n",
    "    acc = accuracy_score(y_test, knn.predict(X_test))\n",
    "    accuracies.append(acc)\n",
    "\n",
    "best_k = k_values[int(np.argmax(accuracies))]\n",
    "best_acc = max(accuracies)\n",
    "\n",
    "print(f\"\\nBest k: {best_k} with accuracy: {best_acc:.3f}\")\n",
    "\n",
    "plt.plot(k_values, accuracies, marker=\"o\")\n",
    "plt.xlabel(\"k\")\n",
    "plt.ylabel(\"Accuracy\")\n",
    "plt.title(\"KNN Accuracy vs k\")\n",
    "plt.show()"
   ]
  },
  {
   "cell_type": "markdown",
   "id": "cc7f7239",
   "metadata": {},
   "source": [
    "So It covers:\n",
    "\n",
    "Load & target creation (pass from G3)\n",
    "\n",
    "Leakage prevention (drop G1, G2, G3)\n",
    "\n",
    "Feature identification (categorical vs numeric)\n",
    "\n",
    "Train/test split (stratified)\n",
    "\n",
    "Preprocessing (scaling numerics + one-hot encoding categoricals with ColumnTransformer)\n",
    "\n",
    "Logistic Regression pipeline (with accuracy, confusion matrix, classification report)\n",
    "\n",
    "KNN pipeline (same metrics)\n",
    "\n",
    "Hyperparameter tuning for K (loop k=1..20 + accuracy plot)"
   ]
  }
 ],
 "metadata": {
  "kernelspec": {
   "display_name": "Python 3",
   "language": "python",
   "name": "python3"
  },
  "language_info": {
   "codemirror_mode": {
    "name": "ipython",
    "version": 3
   },
   "file_extension": ".py",
   "mimetype": "text/x-python",
   "name": "python",
   "nbconvert_exporter": "python",
   "pygments_lexer": "ipython3",
   "version": "3.12.8"
  }
 },
 "nbformat": 4,
 "nbformat_minor": 5
}
